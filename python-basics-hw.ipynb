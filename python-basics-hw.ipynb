{
 "cells": [
  {
   "cell_type": "markdown",
   "metadata": {},
   "source": [
    "**Задание 1**. Даны 2 строки: *long_phrase* и *short_phrase*. \n",
    "Напишите код, который проверяет действительно ли длинная фраза *long_phrase* длиннее короткой *short_phrase*. И выводит *True* или *False* в зависимости от результата сравнения."
   ]
  },
  {
   "cell_type": "code",
   "execution_count": 2,
   "metadata": {
    "pycharm": {
     "is_executing": false
    }
   },
   "outputs": [],
   "source": [
    "long_phrase = 'Насколько проще было бы писать программы, если бы не заказчики'\n",
    "short_phrase = '640Кб должно хватить для любых задач. Билл Гейтс (по легенде)'"
   ]
  },
  {
   "cell_type": "code",
   "execution_count": 3,
   "metadata": {
    "scrolled": true,
    "pycharm": {
     "is_executing": false
    }
   },
   "outputs": [
    {
     "name": "stdout",
     "text": [
      "True\n"
     ],
     "output_type": "stream"
    }
   ],
   "source": [
    "print(len(long_phrase) > len(short_phrase))"
   ]
  },
  {
   "cell_type": "markdown",
   "metadata": {},
   "source": [
    "**Задание 2**. Дано значение объема файла в байтах. Напишите перевод этого значения в мегабайты в формате: \"*Объем файла равен 213.68Mb*\""
   ]
  },
  {
   "cell_type": "code",
   "execution_count": 4,
   "metadata": {
    "pycharm": {
     "is_executing": false
    }
   },
   "outputs": [
    {
     "name": "stdout",
     "text": [
      "Объем файла равен  12.15 Mb\n"
     ],
     "output_type": "stream"
    }
   ],
   "source": [
    "user_input = input(\"Введите размер файла в байтах \")\n",
    "if user_input.isdigit():\n",
    "    print(\"Объем файла равен \", round((int(user_input)/1024), 2), \"Mb\")\n",
    "else:\n",
    "    print('Введите число')"
   ]
  },
  {
   "cell_type": "markdown",
   "metadata": {},
   "source": [
    "**Задание 3**. Разработать приложение для определения знака зодиака по дате рождения. Пример:\n",
    "\n",
    "Введите месяц: март\n",
    "\n",
    "Введите число: 6\n",
    "\n",
    "Вывод:\n",
    "Рыбы"
   ]
  },
  {
   "cell_type": "code",
   "execution_count": 5,
   "metadata": {
    "pycharm": {
     "is_executing": false
    }
   },
   "outputs": [
    {
     "name": "stdout",
     "text": [
      "Вывод:\nРыбы\n"
     ],
     "output_type": "stream"
    }
   ],
   "source": [
    "def main():\n",
    "    listik = [\n",
    "        ['март', 21, 'Овен'],\n",
    "        ['апрель', 21, 'Телец'],\n",
    "        ['май', 22, 'Близнецы'],\n",
    "        ['июнь', 22, 'Рак'],\n",
    "        ['июль', 23, 'Лев'],\n",
    "        ['август', 24, 'Дева'],\n",
    "        ['сентябрь', 24, 'Весы'],\n",
    "        ['октябрь', 24, 'Скорпион'],\n",
    "        ['ноябрь', 23, 'Стрелец'],\n",
    "        ['декабрь', 23, 'Козерог'],\n",
    "        ['январь', 21, 'Водолей'],\n",
    "        ['февраль', 20, 'Рыбы']\n",
    "    ]\n",
    "\n",
    "    month_input = input('Введите месяц: ')\n",
    "    day_input = input('Введите число: ')\n",
    "    print('Вывод:')\n",
    "\n",
    "    if day_input.isdigit():\n",
    "        for i in range(0, 12):\n",
    "            if month_input.lower() == listik[i][0]:\n",
    "                if int(day_input) >= listik[i][1]:\n",
    "                    print (listik[i][2])\n",
    "                    return\n",
    "                else:\n",
    "                    print (listik[i-1][2])\n",
    "                    return\n",
    "        print('Не могу определить дату рождения. Проверьте корректность ввода даты')\n",
    "    else:\n",
    "        print('Вы ввели некорректный день')\n",
    "        return\n",
    "\n",
    "main()\n",
    "    "
   ]
  },
  {
   "cell_type": "markdown",
   "metadata": {},
   "source": [
    "**Задание 4**. Нужно разработать приложение для финансового планирования.\n",
    "Приложение учитывает сколько уходит на ипотеку, \"на жизнь\" и сколько нужно отложить на пенсию.\n",
    "Пользователь вводит:\n",
    "- заработанную плату в месяц.\n",
    "- сколько процентов от ЗП уходит на ипотеку.\n",
    "- сколько процентов от ЗП уходит \"на жизнь\".\n",
    "- сколько раз приходит премия в год.\n",
    "\n",
    "Остальная часть заработанной платы откладывается на пенсию.\n",
    "\n",
    "Также пользователю приходит премия в размере зарплаты, от которой половина уходит на отпуск, а вторая половина откладывается.\n",
    "\n",
    "Программа должна учитывать сколько премий было в год.\n",
    "\n",
    "Нужно вывести сколько денег тратит пользователь на ипотеку и сколько он накопит за год.\n",
    "\n",
    "Пример:\n",
    "\n",
    "Введите заработанную плату в месяц: 100000\n",
    "\n",
    "Введите сколько процентов уходит на ипотеку: 30\n",
    "\n",
    "Введите сколько процентов уходит на жизнь: 50\n",
    "\n",
    "Введите количество премий за год: 2\n",
    "\n",
    "Вывод:\n",
    "На ипотеку было потрачено: 360000 рублей\n",
    "Было накоплено: 340000 рублей"
   ]
  },
  {
   "cell_type": "code",
   "execution_count": 6,
   "metadata": {
    "pycharm": {
     "is_executing": false
    }
   },
   "outputs": [
    {
     "name": "stdout",
     "text": [
      "На ипотеку было потрачено:  12712005  рублей.\nБыло накоплено:  -5625428\n"
     ],
     "output_type": "stream"
    }
   ],
   "source": [
    "salary_input = input('Введите заработанную плату в месяц: ')\n",
    "mortgage_input = input('Введите сколько процентов уходит на ипотеку: ')\n",
    "household_input = input('Введите сколько процентов уходит на жизнь: ')\n",
    "prize_input = input('Введите количество премий за год: ')\n",
    "\n",
    "income = float(salary_input) * (12 + int(prize_input)/2)\n",
    "mortgage_exp = float(salary_input) * 12 * float(mortgage_input) / 100\n",
    "household_exp = float(salary_input) * 12 * float(household_input) / 100\n",
    "\n",
    "\n",
    "print('На ипотеку было потрачено: ', round(mortgage_exp), ' рублей.')\n",
    "print('Было накоплено: ', round(income - mortgage_exp - household_exp))      "
   ]
  },
  {
   "cell_type": "code",
   "execution_count": 6,
   "metadata": {
    "pycharm": {
     "is_executing": false
    }
   },
   "outputs": [],
   "source": []
  }
 ],
 "metadata": {
  "kernelspec": {
   "display_name": "Python 3",
   "language": "python",
   "name": "python3"
  },
  "language_info": {
   "codemirror_mode": {
    "name": "ipython",
    "version": 3
   },
   "file_extension": ".py",
   "mimetype": "text/x-python",
   "name": "python",
   "nbconvert_exporter": "python",
   "pygments_lexer": "ipython3",
   "version": "3.7.4"
  }
 },
 "nbformat": 4,
 "nbformat_minor": 2
}