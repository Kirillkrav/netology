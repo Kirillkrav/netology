{
 "cells": [
  {
   "cell_type": "code",
   "execution_count": null,
   "metadata": {},
   "outputs": [],
   "source": [
    "Задача 1\n",
    "Дана строка\n",
    "string_01 = “Mama, just killed a man, put a gun against his head,\n",
    "pulled my trigger, now he's dead. Mama, life had just begun, but\n",
    "now I've gone and thrown it all away. Mama, ooh (any way the wind\n",
    "blows), didn't mean to make you cry. If I'm not back again this\n",
    "time tomorrow carry on, carry on as if nothing really matters.”\n",
    "1. Посчитайте, сколько в строке символов (исключая пробелы).\n",
    "2. Посчитайте, сколько в строке слов.\n",
    "3. Напишите функцию, которая будет принимать в качестве аргумента букву и\n",
    "выводить все слова из строки, заканчивающиеся на эту букву (например, “s”).\n",
    "4. Не обязательно: Напишите функцию, которая будет принимать в качестве\n",
    "аргумента букву и выводить все слова из строки, начинающиеся на эту букву\n",
    "(например, “m”)."
   ]
  },
  {
   "cell_type": "code",
   "execution_count": 16,
   "metadata": {},
   "outputs": [
    {
     "name": "stdout",
     "output_type": "stream",
     "text": [
      "Кол-во символов без пробелов 254\n",
      "Кол-во слов 61\n",
      "Mama a a Mama Mama\n",
      "a a against and all away any again as\n"
     ]
    }
   ],
   "source": [
    " import string\n",
    "\n",
    "string_01 = \"\"\"Mama, just killed a man, put a gun against his head, \n",
    "pulled my trigger, now he's dead. Mama, life had just begun, but \n",
    "now I've gone and thrown it all away. Mama, ooh (any way the wind \n",
    "blows), didn't mean to make you cry. If I'm not back again this \n",
    "time tomorrow carry on, carry on as if nothing really matters.\"\"\"\n",
    "\n",
    "\n",
    "\n",
    "str_len = len(string_01)\n",
    "count_space = string_01.count(\" \")\n",
    "print(\"Кол-во символов без пробелов\", str_len - count_space) #задание 1\n",
    "print(\"Кол-во слов\", count_space + 1) #задание 2\n",
    "\n",
    "def print_end_letter(string_1, letter):  #задание 3\n",
    "    new_string = []\n",
    "    tt = str.maketrans(dict.fromkeys(string.punctuation))\n",
    "    words_list = str(string_1.strip()).translate(tt).split(\" \")\n",
    "    for word in words_list:\n",
    "        if word[-1] == str(letter):\n",
    "            new_string.append(word)\n",
    "    return \" \".join(new_string)\n",
    "\n",
    "def print_start_letter(string_1, letter):  #задание 4\n",
    "    new_string = []\n",
    "    tt = str.maketrans(dict.fromkeys(string.punctuation))\n",
    "    words_list = str(string_1.strip()).translate(tt).split(\" \")\n",
    "    for word in words_list:\n",
    "        if word[0] == str(letter):\n",
    "            new_string.append(word)\n",
    "    return \" \".join(new_string)\n",
    "\n",
    "\n",
    "print(print_end_letter(string_01, 'a'))\n",
    "print(print_start_letter(string_01, 'a'))\n"
   ]
  },
  {
   "cell_type": "code",
   "execution_count": null,
   "metadata": {},
   "outputs": [],
   "source": [
    "Задача 2\n",
    "Напишите код, который будет генерировать случайную последовательность из 6\n",
    "цифр, одна из которых должна быть 3. Позиция цифры 3 должна\n",
    "определяться случайным образом. Результат должен быть строкой. Например:\n",
    "\"456309\" или \"330127\"."
   ]
  },
  {
   "cell_type": "code",
   "execution_count": 27,
   "metadata": {},
   "outputs": [
    {
     "name": "stdout",
     "output_type": "stream",
     "text": [
      "663878\n",
      "393808\n",
      "729392\n",
      "513043\n",
      "399705\n",
      "338600\n"
     ]
    }
   ],
   "source": [
    "import random\n",
    "\n",
    "def create_random_number():\n",
    "    nmb_start = str(random.randint(10000, 99999))\n",
    "    nmb_start += \"3\"\n",
    "    nums = list(nmb_start)\n",
    "    random.shuffle(nums)\n",
    "    nums = ''.join(nums)\n",
    "    return nums\n",
    "\n",
    "print(create_random_number())\n",
    "print(create_random_number())\n",
    "print(create_random_number())\n",
    "print(create_random_number())\n",
    "print(create_random_number())\n",
    "print(create_random_number())"
   ]
  },
  {
   "cell_type": "code",
   "execution_count": 32,
   "metadata": {},
   "outputs": [
    {
     "data": {
      "text/plain": [
       "'Задача 3\\nДан список\\nlist_01 = [1, 1, 2, 3, 5, 8, 13, 21, 34, 55, 89, 144, 233, 377, 610]\\nНапишите алгоритм, который выводит сумму элементов списка, которые больше\\n10, но меньше 100.'"
      ]
     },
     "execution_count": 32,
     "metadata": {},
     "output_type": "execute_result"
    }
   ],
   "source": [
    "\"\"\"Задача 3\n",
    "Дан список\n",
    "list_01 = [1, 1, 2, 3, 5, 8, 13, 21, 34, 55, 89, 144, 233, 377, 610]\n",
    "Напишите алгоритм, который выводит сумму элементов списка, которые больше\n",
    "10, но меньше 100.\"\"\""
   ]
  },
  {
   "cell_type": "code",
   "execution_count": 31,
   "metadata": {},
   "outputs": [
    {
     "name": "stdout",
     "output_type": "stream",
     "text": [
      "212\n"
     ]
    }
   ],
   "source": [
    "list_01 = [1, 1, 2, 3, 5, 8, 13, 21, 34, 55, 89, 144, 233, 377, 610]\n",
    "\n",
    "list_02 = filter(lambda x: x > 10 and x < 100, list_01)\n",
    "list_02 = list(list_02)\n",
    "print(sum(list_02))"
   ]
  },
  {
   "cell_type": "code",
   "execution_count": null,
   "metadata": {},
   "outputs": [],
   "source": [
    "Задача 4\n",
    "Данные студентов представлены в виде списка списков:\n",
    "students = [\n",
    " [\"0001\", \"Антонов\", \"Антон\", \"Игоревич\", \"20.08.2009\",\n",
    "\"БСТ161\"],\n",
    " [\"1102\", \"Богов\", \"Артем\", \"Игоревич\", \"25.01.2010\",\n",
    "\"БСТ162\"],\n",
    " [\"0333\", \"Глаголева\", \"Анастасия\", \"Николаевна\",\n",
    "\"11.07.2009\", \"БСТ163\"],\n",
    " [\"4004\", \"Степанова\", \"Наталья\", \"Александровна\",\n",
    "\"13.02.2008\", \"БСТ161\"],\n",
    " [\"0045\", \"Боков\", \"Игорь\", \"Харитонович\", \"02.06.2009\",\n",
    "\"БСТ161\"],\n",
    " [\"0096\", \"Васильков\", \"Валентин\", \"Сергеевич\", \"20.03.2009\",\n",
    "\"БСТ164\"],\n",
    " [\"0607\", \"Сиропова\", \"Виолетта\", \"Эдуардовна\", \"28.05.2010\",\n",
    "\"БСТ162\"],\n",
    " [\"0309\", \"Шафутинский\", \"Михаил\", \"Михайлович\",\n",
    "\"03.09.2007\", \"БСТ163\"]\n",
    " ]\n",
    "1. Преобразуйте данные таким образом, чтобы они были представлены в виде\n",
    "словаря, в котором ключами являются номера студентов, а значениями —\n",
    "список из других данных о студентах.\n",
    "2. Напишите функцию, которая принимает в качестве аргумента номер студента и\n",
    "новый номер группы и позволяет изменить номер группы этого студента на\n",
    "новый.\n",
    "3. Напишите функцию, которая принимает номер группы и выводит список\n",
    "(фамилии, имена, отчества) всех студентов этой группы."
   ]
  },
  {
   "cell_type": "code",
   "execution_count": 41,
   "metadata": {},
   "outputs": [
    {
     "name": "stdout",
     "output_type": "stream",
     "text": [
      "{'0001': ['Антонов', 'Антон', 'Игоревич', '20.08.2009', 'БСТ161'], '1102': ['Богов', 'Артем', 'Игоревич', '25.01.2010', 'БСТ162'], '0333': ['Глаголева', 'Анастасия', 'Николаевна', '11.07.2009', 'БСТ163'], '4004': ['Степанова', 'Наталья', 'Александровна', '13.02.2008', 'БСТ161'], '0045': ['Боков', 'Игорь', 'Харитонович', '02.06.2009', 'БСТ161'], '0096': ['Васильков', 'Валентин', 'Сергеевич', '20.03.2009', 'БСТ164'], '0607': ['Сиропова', 'Виолетта', 'Эдуардовна', '28.05.2010', 'БСТ162'], '0309': ['Шафутинский', 'Михаил', 'Михайлович', '03.09.2007', 'БСТ163']}\n",
      "{'0001': ['Антонов', 'Антон', 'Игоревич', '20.08.2009', 'БСТ162'], '1102': ['Богов', 'Артем', 'Игоревич', '25.01.2010', 'БСТ162'], '0333': ['Глаголева', 'Анастасия', 'Николаевна', '11.07.2009', 'БСТ163'], '4004': ['Степанова', 'Наталья', 'Александровна', '13.02.2008', 'БСТ161'], '0045': ['Боков', 'Игорь', 'Харитонович', '02.06.2009', 'БСТ161'], '0096': ['Васильков', 'Валентин', 'Сергеевич', '20.03.2009', 'БСТ164'], '0607': ['Сиропова', 'Виолетта', 'Эдуардовна', '28.05.2010', 'БСТ162'], '0309': ['Шафутинский', 'Михаил', 'Михайлович', '03.09.2007', 'БСТ163']}\n",
      "[['Антонов', 'Антон', 'Игоревич'], ['Богов', 'Артем', 'Игоревич'], ['Сиропова', 'Виолетта', 'Эдуардовна']]\n"
     ]
    }
   ],
   "source": [
    "students = [\n",
    " [\"0001\", \"Антонов\", \"Антон\", \"Игоревич\", \"20.08.2009\",\n",
    "\"БСТ161\"],\n",
    " [\"1102\", \"Богов\", \"Артем\", \"Игоревич\", \"25.01.2010\",\n",
    "\"БСТ162\"],\n",
    " [\"0333\", \"Глаголева\", \"Анастасия\", \"Николаевна\",\n",
    "\"11.07.2009\", \"БСТ163\"],\n",
    " [\"4004\", \"Степанова\", \"Наталья\", \"Александровна\",\n",
    "\"13.02.2008\", \"БСТ161\"],\n",
    " [\"0045\", \"Боков\", \"Игорь\", \"Харитонович\", \"02.06.2009\",\n",
    "\"БСТ161\"],\n",
    " [\"0096\", \"Васильков\", \"Валентин\", \"Сергеевич\", \"20.03.2009\",\n",
    "\"БСТ164\"],\n",
    " [\"0607\", \"Сиропова\", \"Виолетта\", \"Эдуардовна\", \"28.05.2010\",\n",
    "\"БСТ162\"],\n",
    " [\"0309\", \"Шафутинский\", \"Михаил\", \"Михайлович\",\n",
    "\"03.09.2007\", \"БСТ163\"]\n",
    " ]\n",
    "student_dict = {}\n",
    "for stud in students: #Задание 1\n",
    "    numb = stud[0]\n",
    "    stud.pop(0)\n",
    "    student_dict[numb] = stud\n",
    "print(student_dict)\n",
    "\n",
    "def chenge_group_by_nomber(stud_number, new_group): #Задание 2\n",
    "    if stud_number in student_dict:\n",
    "        student_dict[stud_number][-1] = str(new_group)\n",
    "        return True\n",
    "    else:\n",
    "        print(\"Cant find student with declared student_number\")\n",
    "        return False\n",
    "    \n",
    "if chenge_group_by_nomber(\"0001\", \"БСТ162\"): \n",
    "    print(student_dict)\n",
    "    \n",
    "\n",
    "def get_students_by_group(group): #Задание 3\n",
    "    stud_list = []\n",
    "    for stud_num in student_dict:\n",
    "        if student_dict[stud_num][-1] == group:\n",
    "            stud_list.append([student_dict[stud_num][0], student_dict[stud_num][1], student_dict[stud_num][2]])\n",
    "    return stud_list\n",
    "\n",
    "print(get_students_by_group(\"БСТ162\"))\n",
    "    \n",
    "\n",
    "\n"
   ]
  },
  {
   "cell_type": "code",
   "execution_count": null,
   "metadata": {},
   "outputs": [],
   "source": [
    "Задача 5\n",
    "Дана матрица:\n",
    "matrix = [\n",
    "[0, 1, 2, 4, 8],\n",
    "[6, 2, 2, 1, 9],\n",
    "[3, 3, 3, 3, 3],\n",
    "[4, 6, 7, 1, 2],\n",
    "[5, 7, 3, 4, 0]\n",
    "]\n",
    "1. Выведите результат сложения всех элементов матрицы.\n",
    "2. Напишите алгоритм вычисления максимума из сумм элементов каждого\n",
    "столбца."
   ]
  },
  {
   "cell_type": "code",
   "execution_count": 44,
   "metadata": {},
   "outputs": [
    {
     "name": "stdout",
     "output_type": "stream",
     "text": [
      "Summa = 89\n",
      "Max col = 22\n"
     ]
    }
   ],
   "source": [
    "import numpy as np\n",
    "\n",
    "matrix = [\n",
    "[0, 1, 2, 4, 8],\n",
    "[6, 2, 2, 1, 9],\n",
    "[3, 3, 3, 3, 3],\n",
    "[4, 6, 7, 1, 2],\n",
    "[5, 7, 3, 4, 0]\n",
    "]\n",
    "\n",
    "def matrix_sum(matrix): #Задание 1\n",
    "    summa = 0\n",
    "    for row in matrix:\n",
    "        summa += sum(row)\n",
    "    return summa\n",
    "\n",
    "\n",
    "def matrix_col_max(matrix): #Задание 2\n",
    "    max_val = 0\n",
    "    np_matrix = np.array(matrix)\n",
    "    for column in range(0, len(np_matrix[0])):\n",
    "        if sum(np_matrix[:,column]) > max_val:\n",
    "            max_val = sum(np_matrix[:,column])\n",
    "    return max_val\n",
    "\n",
    "print(\"Summa =\", matrix_sum(matrix))\n",
    "\n",
    "print(\"Max col =\", matrix_col_max(matrix))\n",
    "\n",
    "\n"
   ]
  },
  {
   "cell_type": "code",
   "execution_count": null,
   "metadata": {},
   "outputs": [],
   "source": []
  }
 ],
 "metadata": {
  "kernelspec": {
   "display_name": "Python 3",
   "language": "python",
   "name": "python3"
  },
  "language_info": {
   "codemirror_mode": {
    "name": "ipython",
    "version": 3
   },
   "file_extension": ".py",
   "mimetype": "text/x-python",
   "name": "python",
   "nbconvert_exporter": "python",
   "pygments_lexer": "ipython3",
   "version": "3.7.4"
  }
 },
 "nbformat": 4,
 "nbformat_minor": 2
}
