{
 "cells": [
  {
   "cell_type": "markdown",
   "metadata": {},
   "source": [
    "**Задание 1.** Напишите функцию, которая принимает на вход строку и проверяет является ли она валидным транспортным номером. Если да, то функция должна возвращать отдельно номер и регион."
   ]
  },
  {
   "cell_type": "code",
   "execution_count": 3,
   "metadata": {},
   "outputs": [
    {
     "data": {
      "text/plain": [
       "('936', '150')"
      ]
     },
     "execution_count": 3,
     "metadata": {},
     "output_type": "execute_result"
    }
   ],
   "source": [
    "import re\n",
    "\n",
    "def check_if_number_valid(car_num):\n",
    "    pattern = '([а-я])(\\d{3})([а-я]{2})(\\d+)$'\n",
    "    nomber = re.match(pattern, car_num.lower()).group(2)\n",
    "    region = re.match(pattern, car_num.lower()).group(4)\n",
    "    return nomber, region\n",
    "\n",
    "check_if_number_valid(\"о936сн150\")"
   ]
  },
  {
   "cell_type": "markdown",
   "metadata": {},
   "source": [
    "**Задание 2**. Напишите функцию, которая проверяет e-mail адрес на валидность по стандарту RFC822: http://www.w3.org/Protocols/rfc822/. Для этого постарайтесь написать (в крайнем случае найти) самый полный шаблон для проверки e-mail адресов через регулярное выражение. Разберитесь и напишите примеры, какие ваш шаблон может не охватить."
   ]
  },
  {
   "cell_type": "code",
   "execution_count": 8,
   "metadata": {},
   "outputs": [
    {
     "name": "stdout",
     "output_type": "stream",
     "text": [
      "(True, '')\n"
     ]
    }
   ],
   "source": [
    "def CorrectEmail(email):\n",
    "    if email.count('@') > 1 or email.count('@') == 0:\n",
    "        return (False, 'Неверное количество знаков @')\n",
    "    [name,domain] = email.split('@')\n",
    "    if len(domain) < 3:\n",
    "        return (False, 'Доменное имя короче 3 символов')\n",
    "    if len(domain) > 256:\n",
    "        return (False, 'Доменное имя длиннее 256 символов')\n",
    "    if domain.count('.') == 0:\n",
    "        return (False, 'Доменное имя не содержит точки')\n",
    "    includedomain = domain.split('.')\n",
    "    # список с кодами корректных сиволов a-z - и _\n",
    "    correctchrlist = list(range(ord('a'),ord('z')+1))\n",
    "    correctchrlist.extend([ord('-'), ord('_')])\n",
    "    for k in includedomain:\n",
    "        # проверяем нет ли пустых подстрок в домене\n",
    "        if k == '':\n",
    "            return (False, 'Доменное имя содержит пустую строку между точками')\n",
    "        # проверяем нет ли нелегальных символов в подстроках в домене\n",
    "        for n in k:\n",
    "            if ord(n) not in correctchrlist:\n",
    "                errormsg = \"Недопустимый символ \" + n\n",
    "                return (False, errormsg)\n",
    "        if (k[0] == '-') or (k[len(k)-1] == '-'):\n",
    "            return (False, 'Доменное имя не может начинаться/заканчиваться знаком \"-\"')\n",
    "    if len(name) > 128:\n",
    "        return (False, 'Имя длиннее 128 символов')\n",
    "    # Добавляем в список корректных символов . ; \" ! : ,\n",
    "    correctchrlist.extend([ord('.'),ord(';'),ord('\"')])\n",
    "    onlyinquoteschrlist = [ord('!'), ord(','), ord(':')]\n",
    "    correctchrlist.extend(onlyinquoteschrlist)\n",
    "    # Проверка на парные кавычки\n",
    "    if name.count('\"')%2 != 0:\n",
    "        return (False, \"Непарные кавычки\")\n",
    "    # Переменные для отслеживания точки и открывающихся кавычек\n",
    "    doubledot = False\n",
    "    inquotes = False\n",
    "    for k in name:\n",
    "        if (k == '\"'):\n",
    "            inquotes = not inquotes\n",
    "        if (ord(k) in onlyinquoteschrlist) and (inquotes == False):\n",
    "            return (False, \"Недопустимый символ вне кавычек\")\n",
    "        if ord(k) not in correctchrlist:\n",
    "            errormsg = \"Недопустимый символ \" + k\n",
    "            return (False, errormsg)\n",
    "        # проверка на две точки подряд\n",
    "        if (k == '.'):\n",
    "            if doubledot == True:\n",
    "                return (False, \"Две точки в имени\")\n",
    "            else:\n",
    "                doubledot = True\n",
    "    return (True, \"\")\n",
    "\n",
    "print(CorrectEmail('kirillkrav.kki@gmail.com'))\n"
   ]
  },
  {
   "cell_type": "markdown",
   "metadata": {},
   "source": [
    "**Задание 3.** Напишите функцию, которая будет удалять все последовательные повторы слов из заданной строки при помощи регулярных выражений."
   ]
  },
  {
   "cell_type": "code",
   "execution_count": 9,
   "metadata": {},
   "outputs": [
    {
     "name": "stdout",
     "output_type": "stream",
     "text": [
      "Привет я Кирилл Проверяем код\n"
     ]
    }
   ],
   "source": [
    "import re\n",
    "s = \"Привет привет я я Кирилл Кирилл Проверяем код код код\"\n",
    "print( re.sub(r'\\b([^\\W\\d_]+)(\\s+\\1)+\\b', r'\\1', re.sub(r'\\W+', ' ', s).strip(), flags=re.I) )"
   ]
  },
  {
   "cell_type": "markdown",
   "metadata": {},
   "source": [
    "**Задание 4**. Напишите функцию, которая будет проверять номер сотового телефона на валидность, если он валиден, то переводить его в формат:   \n",
    "+7(xxx)-xxx-xx-xx  \n",
    "Постарайтесь предусмотреть как можно больше адекватных форматов изначального ввода номера.\n",
    "Примеры валидных форматов:\n",
    "- +7 955 555-55-55;\n",
    "- 9555555555;\n",
    "- 8(955)555-55-55;\n",
    "- +7 955 555 55 55;\n",
    "- 7(955) 555-55-55;\n",
    "- +7 955+555+55+55."
   ]
  },
  {
   "cell_type": "code",
   "execution_count": 30,
   "metadata": {},
   "outputs": [
    {
     "name": "stdout",
     "output_type": "stream",
     "text": [
      "9026570950\n",
      "79026570950\n",
      "88442943954\n",
      "78442943954\n",
      "89272555572\n",
      "79272555572\n",
      "88446326471\n",
      "78446326471\n",
      "89033714073\n",
      "79033714073\n"
     ]
    }
   ],
   "source": [
    "telList = ['902-657-09-50;',\n",
    "           '8(8442) 94-39-54;',\n",
    "           '89272555572;',\n",
    "           '(884463) 2-64-71;',\n",
    "           '8> 903 371 40 73']\n",
    "\n",
    "def check_phone(phone):\n",
    "    phone = ''.join(filter(str.isdigit, phone))\n",
    "    if len(phone) == 10:\n",
    "        phone = '7' + phone\n",
    "    elif len(phone) == 11:\n",
    "        phone = '7' + phone[1:]\n",
    "    else:\n",
    "        print('Wrong format')\n",
    "        return False\n",
    "    \n",
    "    return('+{}-{}-{}-{}-{}'.format(phone[0], phone[1:4], phone[4:7], phone[7:9], phone[9:11]))\n",
    "\n",
    "for tel in telList:\n",
    "    print(check_phone(tel))"
   ]
  },
  {
   "cell_type": "code",
   "execution_count": null,
   "metadata": {},
   "outputs": [],
   "source": []
  }
 ],
 "metadata": {
  "kernelspec": {
   "display_name": "Python 3",
   "language": "python",
   "name": "python3"
  },
  "language_info": {
   "codemirror_mode": {
    "name": "ipython",
    "version": 3
   },
   "file_extension": ".py",
   "mimetype": "text/x-python",
   "name": "python",
   "nbconvert_exporter": "python",
   "pygments_lexer": "ipython3",
   "version": "3.7.4"
  }
 },
 "nbformat": 4,
 "nbformat_minor": 2
}
