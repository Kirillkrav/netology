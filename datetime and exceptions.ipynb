{
 "cells": [
  {
   "cell_type": "code",
   "execution_count": 9,
   "metadata": {},
   "outputs": [],
   "source": [
    "import datetime\n",
    "from datetime import timedelta"
   ]
  },
  {
   "cell_type": "code",
   "execution_count": 12,
   "metadata": {},
   "outputs": [
    {
     "name": "stdout",
     "output_type": "stream",
     "text": [
      "start2019-01-01\n",
      "stop2019-01-02\n",
      "Delta= ['2019-01-01']\n"
     ]
    }
   ],
   "source": [
    "\"\"\"\n",
    "Задание 1\n",
    "Напишите функцию date_range, \n",
    "которая возвращает список дней между датами start_date и end_date. \n",
    "Даты должны вводиться в формате YYYY-MM-DD.\n",
    "\n",
    "Задание 2\n",
    "Дополните функцию из первого задания проверкой на корректность дат. \n",
    "В случае неверного формата или если start_date > end_date должен возвращаться пустой список.\n",
    "\"\"\"\n",
    "\n",
    "def time_delta(start_date, end_date):\n",
    "    try:\n",
    "        start_date = datetime.datetime.strptime(start_date,\"%Y-%m-%d\")\n",
    "        end_date = datetime.datetime.strptime(end_date,\"%Y-%m-%d\")\n",
    "    except ValueError:\n",
    "        print('Wrong date format.  YYYY-MM-DD required')\n",
    "        return []\n",
    "    \n",
    "    list_dates = []\n",
    "    while start_date < end_date:\n",
    "        list_dates.append(start_date.strftime(\"%Y-%m-%d\"))\n",
    "        start_date += timedelta(days=1)\n",
    "    \n",
    "    if not list_dates:\n",
    "        print('Start_date greater then end_date')\n",
    "        \n",
    "    return list_dates\n",
    "\n",
    "\n",
    "start_date = input('start')\n",
    "end_date = input('stop')\n",
    "print('Delta=', time_delta(start_date, end_date))"
   ]
  },
  {
   "cell_type": "code",
   "execution_count": 13,
   "metadata": {},
   "outputs": [
    {
     "name": "stdout",
     "output_type": "stream",
     "text": [
      "{'2018-04-02': True, '2018-02-29': False, '2018-19-02': False}\n"
     ]
    }
   ],
   "source": [
    "\"\"\"\n",
    "Задание 3\n",
    "Дан поток дат в формате YYYY-MM-DD, в которых встречаются некорректные значения:\n",
    "stream = [‘2018-04-02’, ‘2018-02-29’, ‘2018-19-02’]\n",
    "\n",
    "Напишите функцию, которая проверяет эти даты на корректность. \n",
    "Т. е. для каждой даты возвращает True (дата корректна) или False (некорректная дата).\n",
    "\"\"\"\n",
    "\n",
    "def check_date_stream(stream):\n",
    "    check_date_stream_dict = {}\n",
    "    for i in stream:\n",
    "        try:\n",
    "            check = datetime.datetime.strptime(i,\"%Y-%m-%d\")\n",
    "            check_date_stream_dict[i] = True\n",
    "        except ValueError:\n",
    "            check_date_stream_dict[i] = False\n",
    "    \n",
    "    return check_date_stream_dict\n",
    "\n",
    "stream = ['2018-04-02', '2018-02-29', '2018-19-02']\n",
    "print(check_date_stream(stream))\n"
   ]
  },
  {
   "cell_type": "code",
   "execution_count": 21,
   "metadata": {},
   "outputs": [
    {
     "name": "stdout",
     "output_type": "stream",
     "text": [
      "A101\n",
      "A101\n"
     ]
    }
   ],
   "source": [
    "\"\"\"\n",
    "Задание 4 (бонусное)\n",
    "Ваш коллега прислал код функции:\n",
    "\n",
    "DEFAULT_USER_COUNT = 3\n",
    "\n",
    "def delete_and_return_last_user(region, default_list=[‘A100’, ‘A101’, ‘A102’]):\n",
    "\"\"“\n",
    "Удаляет из списка default_list последнего пользователя\n",
    "и возвращает ID нового последнего пользователя.\n",
    "”\"\"\n",
    "element_to_delete = default_list[-1]\n",
    "default_list.remove(element_to_delete)\n",
    "\n",
    "return default_list[DEFAULT_USER_COUNT-2]\n",
    "При однократном вызове этой функции все работает корректно:\n",
    "delete_and_return_last_user(1)\n",
    "‘A101’\n",
    "\n",
    "Однако, при повторном вызове получается ошибка IndexError: list index out of range.\n",
    "\n",
    "Задание:\n",
    "\n",
    "Что значит ошибка list index out of range?\n",
    "Почему при первом запуске функция работает корректно, а при втором - нет?\n",
    "\"\"\"\n",
    "\n",
    "DEFAULT_USER_COUNT = 3\n",
    "\n",
    "def delete_and_return_last_user(default_list=['A100', 'A101', 'A102']):\n",
    "    \"\"\"\n",
    "    Удаляет из списка default_list последнего пользователя\n",
    "    и возвращает ID нового последнего пользователя.\n",
    "    \"\"\"\n",
    "    element_to_delete = default_list[-1]\n",
    "    default_list.remove(element_to_delete)\n",
    "    return default_list[DEFAULT_USER_COUNT-2]\n",
    "\n",
    "print(delete_and_return_last_user(default_list=['A100', 'A101', 'A102']))\n",
    "\n",
    "print(delete_and_return_last_user(default_list=['A100', 'A101', 'A102']))"
   ]
  },
  {
   "cell_type": "code",
   "execution_count": null,
   "metadata": {},
   "outputs": [],
   "source": [
    "\"\"\"\n",
    "Ошибка IndexError означает некорректное обращение к списку по индексу. К списку с одним эллементом применяем индекс 1\n",
    "\n",
    "Если мы вызываем функцию без передачи аргументов, тогда default_list.remove(element_to_delete) сокращает список \n",
    "и при следующем вызове мы обращаемся уже к укороченному списку, \n",
    "но непонятная переменная DEFAULT_USER_COUNT при этом не меняется.\n",
    "\n",
    "Чтобы решить проблему, можно передавать default_list при вызове функции, либо обращаться к новому списку по индексу -1 \n",
    "\"\"\""
   ]
  }
 ],
 "metadata": {
  "kernelspec": {
   "display_name": "Python 3",
   "language": "python",
   "name": "python3"
  },
  "language_info": {
   "codemirror_mode": {
    "name": "ipython",
    "version": 3
   },
   "file_extension": ".py",
   "mimetype": "text/x-python",
   "name": "python",
   "nbconvert_exporter": "python",
   "pygments_lexer": "ipython3",
   "version": "3.7.4"
  }
 },
 "nbformat": 4,
 "nbformat_minor": 2
}
